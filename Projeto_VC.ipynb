{
  "nbformat": 4,
  "nbformat_minor": 0,
  "metadata": {
    "colab": {
      "provenance": [],
      "gpuType": "T4",
      "include_colab_link": true
    },
    "kernelspec": {
      "name": "python3",
      "display_name": "Python 3"
    },
    "language_info": {
      "name": "python"
    },
    "accelerator": "GPU"
  },
  "cells": [
    {
      "cell_type": "markdown",
      "metadata": {
        "id": "view-in-github",
        "colab_type": "text"
      },
      "source": [
        "<a href=\"https://colab.research.google.com/github/tatiholanda/frtensorflow2/blob/main/Projeto_VC.ipynb\" target=\"_parent\"><img src=\"https://colab.research.google.com/assets/colab-badge.svg\" alt=\"Open In Colab\"/></a>"
      ]
    },
    {
      "cell_type": "markdown",
      "source": [
        "Instalar tensorflow"
      ],
      "metadata": {
        "id": "I7_oc2bzAGwe"
      }
    },
    {
      "cell_type": "code",
      "execution_count": null,
      "metadata": {
        "id": "L5X41G8c2FlV"
      },
      "outputs": [],
      "source": [
        "!pip install tensorflow\n"
      ]
    },
    {
      "cell_type": "markdown",
      "source": [
        "Importação das bibliotecas que serão usadas\n"
      ],
      "metadata": {
        "id": "Jmfy2Kq_A1np"
      }
    },
    {
      "cell_type": "code",
      "source": [
        "import tensorflow as tf\n",
        "from tensorflow.keras.datasets import mnist\n",
        "from tensorflow.keras.models import Sequential\n",
        "from tensorflow.keras.layers import Dense, Conv2D, Flatten, Dropout, MaxPooling2D\n",
        "from tensorflow.keras.optimizers import Adam\n",
        "import matplotlib.pyplot as plt\n",
        "import numpy as np\n",
        "from sklearn.metrics import confusion_matrix\n",
        "import seaborn as sns"
      ],
      "metadata": {
        "id": "mlFcXC272GqV"
      },
      "execution_count": null,
      "outputs": []
    },
    {
      "cell_type": "markdown",
      "source": [
        "Carregar e Preparar o Conjunto de Dados MNIST"
      ],
      "metadata": {
        "id": "OqoFao9ABjk8"
      }
    },
    {
      "cell_type": "code",
      "source": [
        "(x_train, y_train), (x_test, y_test) = mnist.load_data()\n",
        "\n",
        "# Normalizando os dados\n",
        "x_train, x_test = x_train / 255.0, x_test / 255.0\n",
        "\n",
        "# Redimensionando as imagens para 28x28x1\n",
        "x_train = x_train.reshape(-1, 28, 28, 1)\n",
        "x_test = x_test.reshape(-1, 28, 28, 1)"
      ],
      "metadata": {
        "id": "5-vKz8772IZv"
      },
      "execution_count": null,
      "outputs": []
    },
    {
      "cell_type": "markdown",
      "source": [
        "Visualização de Algumas Imagens do Conjunto de Dados"
      ],
      "metadata": {
        "id": "7LrzEvm0By4a"
      }
    },
    {
      "cell_type": "code",
      "source": [
        "plt.figure(figsize=(10, 10))\n",
        "for i in range(25):\n",
        "    plt.subplot(5, 5, i+1)\n",
        "    plt.xticks([])\n",
        "    plt.yticks([])\n",
        "    plt.grid(False)\n",
        "    plt.imshow(x_train[i].reshape(28, 28), cmap=plt.cm.binary)\n",
        "    plt.xlabel(y_train[i])\n",
        "plt.show()\n"
      ],
      "metadata": {
        "id": "2bcm6Oe0B6Wn"
      },
      "execution_count": null,
      "outputs": []
    },
    {
      "cell_type": "markdown",
      "source": [
        "Construção do Modelo de Rede Neural"
      ],
      "metadata": {
        "id": "psY4y8zbB-jP"
      }
    },
    {
      "cell_type": "code",
      "source": [
        "model = Sequential([\n",
        "  Conv2D(32, kernel_size=(3, 3), activation='relu', input_shape=(28, 28, 1)),\n",
        "  MaxPooling2D(pool_size=(2, 2)),\n",
        "  Dropout(0.25),\n",
        "  Flatten(),\n",
        "  Dense(128, activation='relu'),\n",
        "  Dropout(0.5),\n",
        "  Dense(10, activation='softmax')\n",
        "])\n",
        "\n",
        "model.compile(optimizer=\n",
        "              'adam', loss='sparse_categorical_crossentropy', metrics=['accuracy'])\n",
        "model.summary()"
      ],
      "metadata": {
        "id": "JvkIFjVP2KVx"
      },
      "execution_count": null,
      "outputs": []
    },
    {
      "cell_type": "markdown",
      "source": [
        "Treinamento do Modelo e Armazenamento do Histórico"
      ],
      "metadata": {
        "id": "nwLdBJ62CN9x"
      }
    },
    {
      "cell_type": "code",
      "source": [
        "history = model.fit(x_train, y_train, epochs=10, validation_data=(x_test, y_test))"
      ],
      "metadata": {
        "id": "k-xAus4cCSED"
      },
      "execution_count": null,
      "outputs": []
    },
    {
      "cell_type": "markdown",
      "source": [
        "Gráficos de Acurácia e Perda"
      ],
      "metadata": {
        "id": "aautqQTMCa3l"
      }
    },
    {
      "cell_type": "code",
      "source": [
        "# Plotar a acurácia de treinamento e validação\n",
        "plt.figure(figsize=(12, 4))\n",
        "plt.subplot(1, 2, 1)\n",
        "plt.plot(history.history['accuracy'], label='Acurácia de Treinamento')\n",
        "plt.plot(history.history['val_accuracy'], label='Acurácia de Validação')\n",
        "plt.title('Acurácia por Épocas')\n",
        "plt.xlabel('Épocas')\n",
        "plt.ylabel('Acurácia')\n",
        "plt.legend()\n",
        "\n",
        "# Plotar a perda de treinamento e validação\n",
        "plt.subplot(1, 2, 2)\n",
        "plt.plot(history.history['loss'], label='Perda de Treinamento')\n",
        "plt.plot(history.history['val_loss'], label='Perda de Validação')\n",
        "plt.title('Perda por Épocas')\n",
        "plt.xlabel('Épocas')\n",
        "plt.ylabel('Perda')\n",
        "plt.legend()\n",
        "plt.show()\n"
      ],
      "metadata": {
        "id": "xqTb8KZsCbdr"
      },
      "execution_count": null,
      "outputs": []
    },
    {
      "cell_type": "markdown",
      "source": [
        "Avaliação do Modelo e Matriz de Confusão"
      ],
      "metadata": {
        "id": "DZbDu032Ck_Q"
      }
    },
    {
      "cell_type": "code",
      "source": [
        "# Avaliação do modelo\n",
        "loss, accuracy = model.evaluate(x_test, y_test)\n",
        "print(f\"Acurácia: {accuracy*100}%\")\n",
        "\n",
        "# Previsões do modelo\n",
        "y_pred = model.predict(x_test)\n",
        "y_pred_classes = np.argmax(y_pred, axis=1)\n",
        "y_true = y_test\n",
        "\n",
        "# Computar a matriz de confusão\n",
        "cm = confusion_matrix(y_true, y_pred_classes)\n",
        "\n",
        "# Visualizar a matriz de confusão\n",
        "plt.figure(figsize=(10, 10))\n",
        "sns.heatmap(cm, annot=True, fmt='d', cmap='Blues')\n",
        "plt.title('Matriz de Confusão')\n",
        "plt.ylabel('Valores Reais')\n",
        "plt.xlabel('Valores Previstos')\n",
        "plt.show()\n"
      ],
      "metadata": {
        "id": "BPjKS4o3ClpC"
      },
      "execution_count": null,
      "outputs": []
    },
    {
      "cell_type": "markdown",
      "source": [
        "Visualização dos Filtros da CNN"
      ],
      "metadata": {
        "id": "d9oVd8EhCoTk"
      }
    },
    {
      "cell_type": "code",
      "source": [
        "def visualize_filters(model):\n",
        "    filters, biases = model.layers[0].get_weights()\n",
        "    f_min, f_max = filters.min(), filters.max()\n",
        "    filters = (filters - f_min) / (f_max - f_min)\n",
        "\n",
        "    n_filters = 6  # Número de filtros para visualizar\n",
        "    n_columns = 3   # Número de colunas na visualização\n",
        "\n",
        "    plt.figure(figsize=(12, 8))\n",
        "    for i in range(n_filters):\n",
        "        f = filters[:, :, :, i]\n",
        "        for j in range(1):  # Alterado para 1, assumindo 1 canal\n",
        "            ax = plt.subplot(n_filters, n_columns, i * n_columns + j + 1)\n",
        "            ax.set_xticks([])\n",
        "            ax.set_yticks([])\n",
        "            plt.imshow(f[:, :, j], cmap='gray')\n",
        "    plt.show()\n",
        "\n",
        "visualize_filters(model)\n"
      ],
      "metadata": {
        "id": "qjPEIoMy2S7B"
      },
      "execution_count": null,
      "outputs": []
    }
  ]
}